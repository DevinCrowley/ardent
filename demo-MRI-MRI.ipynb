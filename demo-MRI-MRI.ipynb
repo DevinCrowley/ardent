{
 "cells": [
  {
   "cell_type": "code",
   "execution_count": null,
   "metadata": {},
   "outputs": [],
   "source": [
    "#%% Imports.\n",
    "import numpy as np\n",
    "import matplotlib\n",
    "%matplotlib inline\n",
    "#%matplotlib notebook\n",
    "import ardent"
   ]
  },
  {
   "cell_type": "code",
   "execution_count": null,
   "metadata": {},
   "outputs": [],
   "source": [
    "#%% Load template and target.\n",
    "# specify path\n",
    "atlas_image_filename = '/home/dtward/Documents/cis/ardent-work/neuronex2/datasets/Adt27-55_02_Adt27-55_02_MNI.img'\n",
    "target_image_filename = '/home/dtward/Documents/cis/ardent-work/neuronex2/datasets/Adt27-55_03_Adt27-55_03_MNI.img'\n",
    "\n",
    "# load\n",
    "atlas = ardent.io.load(atlas_image_filename, down=[4,4,4], norm='sad',pad=1)\n",
    "target = ardent.io.load(target_image_filename, down=[4,4,4], norm='sad')"
   ]
  },
  {
   "cell_type": "code",
   "execution_count": null,
   "metadata": {},
   "outputs": [],
   "source": [
    "#%% Visualize images before registration, check orientation\n",
    "ardent.heatslices(atlas, title='atlas', limit_mode='stdev')\n",
    "ardent.heatslices(target, title='target', limit_mode='stdev')"
   ]
  },
  {
   "cell_type": "code",
   "execution_count": null,
   "metadata": {
    "scrolled": false
   },
   "outputs": [],
   "source": [
    "#%% Perform registration.\n",
    "transform = ardent.Transform()\n",
    "transform.register(template=atlas, target=target, \n",
    "                   sigmaM=1.0,sigmaR=1e3, \n",
    "                   eV=2e0, eT=1e-5, eL=1e-8, \n",
    "                   niter=50, draw=True)"
   ]
  },
  {
   "cell_type": "code",
   "execution_count": null,
   "metadata": {},
   "outputs": [],
   "source": [
    "#%% Apply the transformation.\n",
    "resampled_atlas = transform.apply_transform(subject=atlas, deform_to='target-identity', save_path=None)\n",
    "deformed_atlas = transform.apply_transform(subject=atlas, deform_to='target', save_path=None)\n",
    "deformed_target = transform.apply_transform(subject=target, deform_to='template', save_path=None)"
   ]
  },
  {
   "cell_type": "code",
   "execution_count": null,
   "metadata": {},
   "outputs": [],
   "source": [
    "#%% Visualize results.\n",
    "ardent.heatslices(target - resampled_atlas, title='error before registration', limit_mode='stdev')\n",
    "ardent.heatslices(target - deformed_atlas, title='error after registration', limit_mode='stdev')\n"
   ]
  }
 ],
 "metadata": {
  "kernelspec": {
   "display_name": "Python 3",
   "language": "python",
   "name": "python3"
  },
  "language_info": {
   "codemirror_mode": {
    "name": "ipython",
    "version": 3
   },
   "file_extension": ".py",
   "mimetype": "text/x-python",
   "name": "python",
   "nbconvert_exporter": "python",
   "pygments_lexer": "ipython3",
   "version": "3.6.7"
  }
 },
 "nbformat": 4,
 "nbformat_minor": 2
}
