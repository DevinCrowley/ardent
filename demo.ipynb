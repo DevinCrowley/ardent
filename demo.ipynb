{
 "cells": [
  {
   "cell_type": "code",
   "execution_count": null,
   "metadata": {},
   "outputs": [],
   "source": [
    "#%% Setup.\n",
    "\n",
    "# Activate environment.\n",
    "# ! . ~/env/bin/activate\n",
    "\n",
    "# Requirements.\n",
    "\n",
    "#! pip install --upgrade numpy torch scipy sklearn nibabel nilearn matplotlib"
   ]
  },
  {
   "cell_type": "code",
   "execution_count": null,
   "metadata": {},
   "outputs": [],
   "source": [
    "#%% Imports.\n",
    "\n",
    "import numpy as np\n",
    "import ardent\n",
    "\n",
    "import matplotlib\n",
    "%matplotlib inline\n",
    "\n",
    "# TODO: remove with ardent.io.\n",
    "from pathlib import Path\n",
    "import nibabel as nib "
   ]
  },
  {
   "cell_type": "code",
   "execution_count": null,
   "metadata": {},
   "outputs": [],
   "source": [
    "#%% Load template and target.\n",
    "\n",
    "directory_path = Path('/home/dcrowley/image_lddmm_tensorflow')\n",
    "atlas_image_filename = 'average_template_50.img'\n",
    "target_image_filename = '180517_Downsample.img'\n",
    "\n",
    "atlasPath = directory_path / atlas_image_filename\n",
    "targetPath = directory_path / target_image_filename\n",
    "\n",
    "atlas = np.array(nib.load(str(atlasPath)).get_data()).astype(float).squeeze()\n",
    "target = np.array(nib.load(str(targetPath)).get_data()).astype(float).squeeze()"
   ]
  },
  {
   "cell_type": "code",
   "execution_count": null,
   "metadata": {},
   "outputs": [],
   "source": [
    "#%% Reform and normalize images.\n",
    "\n",
    "# Normalize.\n",
    "# Compute mean absolute deviation.\n",
    "atlas_mean_absolute_deviation = np.mean(np.abs(atlas - np.median(atlas)))\n",
    "target_mean_absolute_deviation = np.mean(np.abs(target - np.median(target)))\n",
    "# Subtract mean.\n",
    "atlas -= np.mean(atlas)\n",
    "target -= np.mean(target)\n",
    "# Divide by mean absolute deviation.\n",
    "atlas /= atlas_mean_absolute_deviation\n",
    "target /= target_mean_absolute_deviation\n",
    "\n",
    "# Pad with zeros.\n",
    "atlas = np.pad(atlas, pad_width=5, mode='constant', constant_values=0)\n",
    "target = np.pad(target, pad_width=5, mode='constant', constant_values=0)"
   ]
  },
  {
   "cell_type": "code",
   "execution_count": null,
   "metadata": {},
   "outputs": [],
   "source": [
    "#%% Visualize images before registration.\n",
    "# It is important to check that the images are oriented to one another \n",
    "# and do not require rotating or flipping.\n",
    "\n",
    "ardent.heatslices(atlas, title='atlas', limit_mode='stdev')\n",
    "ardent.heatslices(target, title='target', limit_mode='stdev')"
   ]
  },
  {
   "cell_type": "code",
   "execution_count": null,
   "metadata": {},
   "outputs": [],
   "source": [
    "#%% Orient images.\n",
    "# From looking at the two images we can see that they are not oriented.\n",
    "# This must be corrected for prior to performing the registration.\n",
    "\n",
    "# Here we will orient the target to the template (atlas).\n",
    "reoriented_target = np.copy(target)\n",
    "reoriented_target = np.rot90(reoriented_target, axes=(1,2))\n",
    "reoriented_target = np.rot90(reoriented_target, axes=(2,0))\n",
    "# np.moveaxis does nothing when destination == source.\n",
    "# reoriented_target = np.moveaxis(reoriented_target, source=[0,1,2], destination=[0,1,2])\n",
    "reoriented_target = np.flip(reoriented_target, axis=0)\n",
    "reoriented_target = np.flip(reoriented_target, axis=1)\n",
    "\n",
    "# If we performed an odd number of inversions with the above line, \n",
    "# we must perform a flip to correct for inverting the image. \n",
    "# The simplest flip is a sagittal flip, since that is the axis of innate symmetry in the brain.\n",
    "# In this case, we can see from the atlas visualization that this is axis 2 (the last row).\n",
    "# The above line performed 2 inversions, so the following line is commented out.\n",
    "# reoriented_target = np.flip(reoriented_target, axis=2)\n",
    "\n",
    "# Verify proper orientation.\n",
    "ardent.heatslices(atlas, title='atlas', limit_mode='stdev')\n",
    "ardent.heatslices(reoriented_target, title='reoriented target', limit_mode='stdev')"
   ]
  },
  {
   "cell_type": "code",
   "execution_count": null,
   "metadata": {},
   "outputs": [],
   "source": [
    "#%% Use reoriented target.\n",
    "# Once we've finished orienting target, we use the result as target.\n",
    "# A copy is taken to get a real array rather than a view.\n",
    "target = reoriented_target.copy()\n",
    "\n",
    "# Pad images to same shape.\n",
    "atlas, target = ardent.lddmm.torch_lddmm_wrapper._pad_to_same_shape(atlas, target)"
   ]
  },
  {
   "cell_type": "code",
   "execution_count": null,
   "metadata": {},
   "outputs": [],
   "source": [
    "#%% Perform registration.\n",
    "\n",
    "# Instantiate Transform object.\n",
    "transform = ardent.Transform()\n",
    "\n",
    "transform.register(template=atlas, target=target, \n",
    "    sigmaR=1e6, eV=0.1, niter=5)"
   ]
  },
  {
   "cell_type": "code",
   "execution_count": null,
   "metadata": {},
   "outputs": [],
   "source": [
    "#%% Apply the transformation.\n",
    "# The transformation is the result of the registration, and it can be applied to arbitrary images, \n",
    "# although presently they should be preprocessed as the atlas and target were.\n",
    "# Here we will simply apply the transformation to both the atlas and target, \n",
    "# making them match up with each other.\n",
    "# i.e. deformed_target should resemble atlas, and deformed_atlas should resemble target.\n",
    "\n",
    "deformed_atlas = transform.apply_transform(subject=atlas, deform_to='target', save_path=None)\n",
    "deformed_target = transform.apply_transform(subject=target, deform_to='template', save_path=None)"
   ]
  },
  {
   "cell_type": "code",
   "execution_count": null,
   "metadata": {},
   "outputs": [],
   "source": [
    "#%% Visualize results.\n",
    "\n",
    "ardent.heatslices(deformed_atlas, title='deformed_atlas', limit_mode='stdev')\n",
    "ardent.heatslices(deformed_target, title='deformed_target', limit_mode='stdev')\n",
    "\n",
    "# To simply visualize error we plot the difference between images.\n",
    "ardent.heatslices(deformed_target - atlas, title='error in atlas space', limit_mode='stdev')\n",
    "ardent.heatslices(target - deformed_atlas, title='error in target space', limit_mode='stdev')\n",
    "ardent.heatslices(target - atlas, title='error before registration', limit_mode='stdev')"
   ]
  },
  {
   "cell_type": "code",
   "execution_count": null,
   "metadata": {},
   "outputs": [],
   "source": []
  }
 ],
 "metadata": {
  "kernelspec": {
   "display_name": "Python 3",
   "language": "python",
   "name": "python3"
  },
  "language_info": {
   "codemirror_mode": {
    "name": "ipython",
    "version": 3
   },
   "file_extension": ".py",
   "mimetype": "text/x-python",
   "name": "python",
   "nbconvert_exporter": "python",
   "pygments_lexer": "ipython3",
   "version": "3.6.7"
  }
 },
 "nbformat": 4,
 "nbformat_minor": 2
}
